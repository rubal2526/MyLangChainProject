{
 "cells": [
  {
   "cell_type": "markdown",
   "metadata": {},
   "source": [
    "#### LangGraph에서 도구(tool) 활용 방법"
   ]
  },
  {
   "cell_type": "markdown",
   "metadata": {},
   "source": [
    "- 도구(tool)를 활용한 에이전트 개발 방법을 알아봅니다\n",
    "- workflow를 직접 선언하지 않고, 사용가능한 도구들을 전달하면, 에이전트가 적합한 도구를 판단해서 사용합니다\n",
    "    - 이번 회차에서는 `ToolNode`를 통해 도구를 활용하는 방법을 알아봅니다"
   ]
  },
  {
   "cell_type": "code",
   "execution_count": 1,
   "metadata": {},
   "outputs": [
    {
     "name": "stdout",
     "output_type": "stream",
     "text": [
      "sk\n",
      "5L\n"
     ]
    }
   ],
   "source": [
    "from dotenv import load_dotenv\n",
    "import os\n",
    "# .env 파일을 불러와서 환경 변수로 설정\n",
    "load_dotenv()\n",
    "\n",
    "OPENAI_API_KEY = os.getenv(\"OPENAI_API_KEY\")\n",
    "print(OPENAI_API_KEY[:2])\n",
    "\n",
    "UPSTAGE_API_KEY = os.getenv(\"UPSTAGE_API_KEY\")\n",
    "print(UPSTAGE_API_KEY[30:])"
   ]
  },
  {
   "cell_type": "code",
   "execution_count": 2,
   "metadata": {},
   "outputs": [
    {
     "name": "stderr",
     "output_type": "stream",
     "text": [
      "c:\\Users\\Jeong\\AppData\\Local\\Packages\\PythonSoftwareFoundation.Python.3.13_qbz5n2kfra8p0\\LocalCache\\Local\\pypoetry\\Cache\\virtualenvs\\mylangchain-app-SBe-Yh6W-py3.13\\Lib\\site-packages\\tqdm\\auto.py:21: TqdmWarning: IProgress not found. Please update jupyter and ipywidgets. See https://ipywidgets.readthedocs.io/en/stable/user_install.html\n",
      "  from .autonotebook import tqdm as notebook_tqdm\n"
     ]
    },
    {
     "name": "stdout",
     "output_type": "stream",
     "text": [
      "client=<openai.resources.chat.completions.completions.Completions object at 0x0000027AB995A510> async_client=<openai.resources.chat.completions.completions.AsyncCompletions object at 0x0000027AB995AF90> model_name='solar-pro' temperature=0.5 model_kwargs={} upstage_api_key=SecretStr('**********') upstage_api_base='https://api.upstage.ai/v1'\n"
     ]
    }
   ],
   "source": [
    "from langchain_upstage import ChatUpstage\n",
    "llm = ChatUpstage(\n",
    "        model=\"solar-pro\",\n",
    "        base_url=\"https://api.upstage.ai/v1\",\n",
    "        temperature=0.5\n",
    "    )\n",
    "print(llm)"
   ]
  },
  {
   "cell_type": "code",
   "execution_count": 3,
   "metadata": {},
   "outputs": [],
   "source": [
    "from langchain_core.tools import tool\n",
    "\n",
    "@tool\n",
    "def add(a: int, b: int) -> int:\n",
    "    \"\"\"숫자 a와 b를 더합니다.\"\"\"\n",
    "    return a + b\n",
    "\n",
    "@tool\n",
    "def multiply(a: int, b: int) -> int:\n",
    "    \"\"\"숫자 a와 b를 곱합니다.\"\"\"\n",
    "    return a * b"
   ]
  },
  {
   "cell_type": "markdown",
   "metadata": {},
   "source": [
    "- LangGraph는 `ToolNode`를 통해 도구를 활용합니다\n",
    "- `ToolNode`의 `invoke()`결과는 도구의 `invoke()` 결과와 유사합니다\n",
    "    - 도구는 도구의 실행 결과를 리턴하고, `ToolNode`는 도구의 실행 결과를 포함한 `ToolMessage`를 리턴합니다"
   ]
  },
  {
   "cell_type": "code",
   "execution_count": 4,
   "metadata": {},
   "outputs": [
    {
     "name": "stdout",
     "output_type": "stream",
     "text": [
      "<class 'langchain_core.runnables.base.RunnableBinding'>\n",
      "tools(tags=None, recurse=True, explode_args=False, func_accepts={'config': ('N/A', <class 'inspect._empty'>), 'store': ('store', None)}, tools_by_name={'add': StructuredTool(name='add', description='숫자 a와 b를 더합니다.', args_schema=<class 'langchain_core.utils.pydantic.add'>, func=<function add at 0x0000027AB98C68E0>), 'multiply': StructuredTool(name='multiply', description='숫자 a와 b를 곱합니다.', args_schema=<class 'langchain_core.utils.pydantic.multiply'>, func=<function multiply at 0x0000027AB98C6980>)}, tool_to_state_args={'add': {}, 'multiply': {}}, tool_to_store_arg={'add': None, 'multiply': None}, handle_tool_errors=True, messages_key='messages')\n"
     ]
    }
   ],
   "source": [
    "from langgraph.prebuilt import ToolNode\n",
    "\n",
    "tool_list = [add, multiply]\n",
    "llm_with_tools = llm.bind_tools(tool_list)\n",
    "tool_node = ToolNode(tool_list)\n",
    "\n",
    "print(type(llm_with_tools))\n",
    "print(tool_node)"
   ]
  },
  {
   "cell_type": "code",
   "execution_count": 6,
   "metadata": {},
   "outputs": [
    {
     "data": {
      "text/plain": [
       "15"
      ]
     },
     "execution_count": 6,
     "metadata": {},
     "output_type": "execute_result"
    }
   ],
   "source": [
    "multiply.invoke({'a': 3, 'b': 5})"
   ]
  },
  {
   "cell_type": "code",
   "execution_count": 7,
   "metadata": {},
   "outputs": [
    {
     "data": {
      "text/plain": [
       "AIMessage(content=\"[The 'add' function is ESSENTIAL to directly compute the sum of 3 and 5, which is the core requirement of the question. No other function or general knowledge is needed.]\", additional_kwargs={'tool_calls': [{'id': 'chatcmpl-tool-a59863325989478ead0902ef1bde6535', 'function': {'arguments': '{\"a\": 3, \"b\": 5}', 'name': 'add'}, 'type': 'function'}], 'refusal': None}, response_metadata={'token_usage': {'completion_tokens': 59, 'prompt_tokens': 580, 'total_tokens': 639, 'completion_tokens_details': {'accepted_prediction_tokens': 0, 'audio_tokens': 0, 'reasoning_tokens': 0, 'rejected_prediction_tokens': 0}, 'prompt_tokens_details': {'audio_tokens': 0, 'cached_tokens': 0}}, 'model_name': 'solar-pro2-250909', 'system_fingerprint': None, 'id': 'b6039898-028e-431b-a57c-647f8d22d658', 'service_tier': None, 'finish_reason': 'tool_calls', 'logprobs': None}, id='run--a7e57734-e38b-48c3-af78-da9d497b14fa-0', tool_calls=[{'name': 'add', 'args': {'a': 3, 'b': 5}, 'id': 'chatcmpl-tool-a59863325989478ead0902ef1bde6535', 'type': 'tool_call'}], usage_metadata={'input_tokens': 580, 'output_tokens': 59, 'total_tokens': 639, 'input_token_details': {'audio': 0, 'cache_read': 0}, 'output_token_details': {'audio': 0, 'reasoning': 0}})"
      ]
     },
     "execution_count": 7,
     "metadata": {},
     "output_type": "execute_result"
    }
   ],
   "source": [
    "ai_message = llm_with_tools.invoke('What is 3 plus 5?')\n",
    "ai_message"
   ]
  },
  {
   "cell_type": "code",
   "execution_count": 8,
   "metadata": {},
   "outputs": [
    {
     "data": {
      "text/plain": [
       "[{'name': 'add',\n",
       "  'args': {'a': 3, 'b': 5},\n",
       "  'id': 'chatcmpl-tool-a59863325989478ead0902ef1bde6535',\n",
       "  'type': 'tool_call'}]"
      ]
     },
     "execution_count": 8,
     "metadata": {},
     "output_type": "execute_result"
    }
   ],
   "source": [
    "ai_message.tool_calls"
   ]
  },
  {
   "cell_type": "markdown",
   "metadata": {},
   "source": [
    "- `ToolNode`를 `invoke()`하려면 `tool_calls` 속성을 포함한 `AIMessage`를 전달해야 합니다"
   ]
  },
  {
   "cell_type": "code",
   "execution_count": 9,
   "metadata": {},
   "outputs": [
    {
     "data": {
      "text/plain": [
       "{'messages': [ToolMessage(content='8', name='add', tool_call_id='chatcmpl-tool-a59863325989478ead0902ef1bde6535')]}"
      ]
     },
     "execution_count": 9,
     "metadata": {},
     "output_type": "execute_result"
    }
   ],
   "source": [
    "tool_node.invoke({'messages': [ai_message]})"
   ]
  },
  {
   "cell_type": "markdown",
   "metadata": {},
   "source": [
    "- 간단한 에이전트를 만들기 위해 LangGraph에서 제공하는 [`StateGraph`](https://langchain-ai.github.io/langgraph/concepts/low_level/#messagesstate)를 사용합니다"
   ]
  },
  {
   "cell_type": "code",
   "execution_count": 10,
   "metadata": {},
   "outputs": [],
   "source": [
    "from langgraph.graph import MessagesState, StateGraph\n",
    "\n",
    "graph_builder = StateGraph(MessagesState)"
   ]
  },
  {
   "cell_type": "code",
   "execution_count": 11,
   "metadata": {},
   "outputs": [],
   "source": [
    "def agent(state: MessagesState) -> MessagesState:\n",
    "    \"\"\"\n",
    "    에이전트 함수는 주어진 상태에서 메시지를 가져와\n",
    "    LLM과 도구를 사용하여 응답 메시지를 생성합니다.\n",
    "\n",
    "    Args:\n",
    "        state (MessagesState): 메시지 상태를 포함하는 state.\n",
    "\n",
    "    Returns:\n",
    "        MessagesState: 응답 메시지를 포함하는 새로운 state.\n",
    "    \"\"\"\n",
    "    # 상태에서 메시지를 추출합니다.\n",
    "    messages = state['messages']\n",
    "    \n",
    "    # LLM과 도구를 사용하여 메시지를 처리하고 응답을 생성합니다.\n",
    "    response = llm_with_tools.invoke(messages)\n",
    "    \n",
    "    # 응답 메시지를 새로운 상태로 반환합니다.\n",
    "    return {'messages': [response]}"
   ]
  },
  {
   "cell_type": "code",
   "execution_count": 12,
   "metadata": {},
   "outputs": [],
   "source": [
    "from typing import Literal\n",
    "from langgraph.graph import END\n",
    "\n",
    "def should_continue(state: MessagesState) -> Literal['tools', END]:\n",
    "    \"\"\"\n",
    "    주어진 메시지 상태를 기반으로 에이전트가 계속 진행할지 여부를 결정합니다.\n",
    "\n",
    "    Args:\n",
    "        state (MessagesState): `state`를 포함하는 객체.\n",
    "\n",
    "    Returns:\n",
    "        Literal['tools', END]: 도구를 사용해야 하면 `tools`를 리턴하고, \n",
    "        답변할 준비가 되었다면 END를 반환해서 프로세스를 종료합니다.\n",
    "    \"\"\"\n",
    "    # 상태에서 메시지를 추출합니다.\n",
    "    messages = state['messages']\n",
    "    print(messages)\n",
    "    \n",
    "    # 마지막 AI 메시지를 가져옵니다.\n",
    "    last_ai_message = messages[-1]\n",
    "    \n",
    "    # 마지막 AI 메시지가 도구 호출을 포함하고 있는지 확인합니다.\n",
    "    if last_ai_message.tool_calls:\n",
    "        # 도구 호출이 있으면 'tools'를 반환합니다.\n",
    "        return 'tools'\n",
    "    \n",
    "    # 도구 호출이 없으면 END를 반환하여 프로세스를 종료합니다.\n",
    "    return END"
   ]
  },
  {
   "cell_type": "markdown",
   "metadata": {},
   "source": [
    "- `node`를 추가하고 `edge`로 연결합니다"
   ]
  },
  {
   "cell_type": "code",
   "execution_count": 13,
   "metadata": {},
   "outputs": [
    {
     "data": {
      "text/plain": [
       "<langgraph.graph.state.StateGraph at 0x27ab9f167b0>"
      ]
     },
     "execution_count": 13,
     "metadata": {},
     "output_type": "execute_result"
    }
   ],
   "source": [
    "graph_builder.add_node('agent', agent)\n",
    "graph_builder.add_node('tools', tool_node)"
   ]
  },
  {
   "cell_type": "code",
   "execution_count": 14,
   "metadata": {},
   "outputs": [
    {
     "data": {
      "text/plain": [
       "<langgraph.graph.state.StateGraph at 0x27ab9f167b0>"
      ]
     },
     "execution_count": 14,
     "metadata": {},
     "output_type": "execute_result"
    }
   ],
   "source": [
    "from langgraph.graph import START, END\n",
    "\n",
    "graph_builder.add_edge(START, 'agent')\n",
    "graph_builder.add_conditional_edges(\n",
    "    'agent',\n",
    "    should_continue,\n",
    "    ['tools', END]\n",
    ")\n",
    "graph_builder.add_edge('tools', 'agent')"
   ]
  },
  {
   "cell_type": "code",
   "execution_count": 15,
   "metadata": {},
   "outputs": [
    {
     "name": "stdout",
     "output_type": "stream",
     "text": [
      "<class 'langgraph.graph.state.CompiledStateGraph'>\n"
     ]
    }
   ],
   "source": [
    "graph= graph_builder.compile()\n",
    "print(type(graph))"
   ]
  },
  {
   "cell_type": "code",
   "execution_count": null,
   "metadata": {},
   "outputs": [
    {
     "data": {
      "image/png": "[encoded data removed]",
      "text/plain": [
       "<IPython.core.display.Image object>"
      ]
     },
     "metadata": {},
     "output_type": "display_data"
    }
   ],
   "source": [
    "# from IPython.display import Image, display\n",
    "\n",
    "# display(Image(graph.get_graph().draw_mermaid_png()))"
   ]
  },
  {
   "cell_type": "code",
   "execution_count": 16,
   "metadata": {},
   "outputs": [
    {
     "name": "stdout",
     "output_type": "stream",
     "text": [
      "Mermaid Code:\n",
      "---\n",
      "config:\n",
      "  flowchart:\n",
      "    curve: linear\n",
      "---\n",
      "graph TD;\n",
      "\t__start__([<p>__start__</p>]):::first\n",
      "\tagent(agent)\n",
      "\ttools(tools)\n",
      "\t__end__([<p>__end__</p>]):::last\n",
      "\t__start__ --> agent;\n",
      "\tagent -.-> __end__;\n",
      "\tagent -.-> tools;\n",
      "\ttools --> agent;\n",
      "\tclassDef default fill:#f2f0ff,line-height:1.2\n",
      "\tclassDef first fill-opacity:0\n",
      "\tclassDef last fill:#bfb6fc\n",
      "\n"
     ]
    }
   ],
   "source": [
    "mermaid_code = graph.get_graph().draw_mermaid()\n",
    "print(\"Mermaid Code:\")\n",
    "print(mermaid_code)"
   ]
  },
  {
   "cell_type": "markdown",
   "metadata": {},
   "source": [
    "* https://mermaid.live/ 에서  mermain_code 로 직접 확인한다.\n"
   ]
  },
  {
   "cell_type": "markdown",
   "metadata": {},
   "source": [
    "- `graph.stream()`을 활용하면 에이전트가 답변을 생성하는 과정을 모니터링 할 수 있습니다"
   ]
  },
  {
   "cell_type": "code",
   "execution_count": 17,
   "metadata": {},
   "outputs": [
    {
     "name": "stdout",
     "output_type": "stream",
     "text": [
      "================================\u001b[1m Human Message \u001b[0m=================================\n",
      "\n",
      "3에다 5를 더하고 거기에 8을 곱하면?\n",
      "[HumanMessage(content='3에다 5를 더하고 거기에 8을 곱하면?', additional_kwargs={}, response_metadata={}, id='9352e4da-b518-4aa0-8d85-7375483a9780'), AIMessage(content=\"[Brief explanation: The `add` function is ESSENTIAL to compute the sum of 3 and 5, and the `multiply` function is ESSENTIAL to multiply the result by 8. These are the MINIMUM necessary steps to answer the question.]  \\n\\nNote: The system should pass the result of `add` as `result_of_add` to `multiply`. If the tool doesn't support variable passing, the functions would need to be executed sequentially with manual result handling.  \\n\\nFinal answer: (3 + 5) × 8 = 8 × 8 = **64**.\", additional_kwargs={'tool_calls': [{'id': 'chatcmpl-tool-9740f6d3ec7c436385688de728b18d20', 'function': {'arguments': '{\"a\": 3, \"b\": 5}', 'name': 'add'}, 'type': 'function'}, {'id': 'chatcmpl-tool-b10c77ac65f54fc9b5a43e89f46c7634', 'function': {'arguments': '{\"a\": \"result_of_add\", \"b\": 8}', 'name': 'multiply'}, 'type': 'function'}], 'refusal': None}, response_metadata={'token_usage': {'completion_tokens': 161, 'prompt_tokens': 585, 'total_tokens': 746, 'completion_tokens_details': {'accepted_prediction_tokens': 0, 'audio_tokens': 0, 'reasoning_tokens': 0, 'rejected_prediction_tokens': 0}, 'prompt_tokens_details': {'audio_tokens': 0, 'cached_tokens': 0}}, 'model_name': 'solar-pro2-250909', 'system_fingerprint': None, 'id': 'ee4dc085-c870-4292-8478-ce4f9d141426', 'service_tier': None, 'finish_reason': 'tool_calls', 'logprobs': None}, id='run--dba7ee23-ad69-4808-8af7-d380a433e1f1-0', tool_calls=[{'name': 'add', 'args': {'a': 3, 'b': 5}, 'id': 'chatcmpl-tool-9740f6d3ec7c436385688de728b18d20', 'type': 'tool_call'}, {'name': 'multiply', 'args': {'a': 'result_of_add', 'b': 8}, 'id': 'chatcmpl-tool-b10c77ac65f54fc9b5a43e89f46c7634', 'type': 'tool_call'}], usage_metadata={'input_tokens': 585, 'output_tokens': 161, 'total_tokens': 746, 'input_token_details': {'audio': 0, 'cache_read': 0}, 'output_token_details': {'audio': 0, 'reasoning': 0}})]\n",
      "==================================\u001b[1m Ai Message \u001b[0m==================================\n",
      "\n",
      "[Brief explanation: The `add` function is ESSENTIAL to compute the sum of 3 and 5, and the `multiply` function is ESSENTIAL to multiply the result by 8. These are the MINIMUM necessary steps to answer the question.]  \n",
      "\n",
      "Note: The system should pass the result of `add` as `result_of_add` to `multiply`. If the tool doesn't support variable passing, the functions would need to be executed sequentially with manual result handling.  \n",
      "\n",
      "Final answer: (3 + 5) × 8 = 8 × 8 = **64**.\n",
      "Tool Calls:\n",
      "  add (chatcmpl-tool-9740f6d3ec7c436385688de728b18d20)\n",
      " Call ID: chatcmpl-tool-9740f6d3ec7c436385688de728b18d20\n",
      "  Args:\n",
      "    a: 3\n",
      "    b: 5\n",
      "  multiply (chatcmpl-tool-b10c77ac65f54fc9b5a43e89f46c7634)\n",
      " Call ID: chatcmpl-tool-b10c77ac65f54fc9b5a43e89f46c7634\n",
      "  Args:\n",
      "    a: result_of_add\n",
      "    b: 8\n",
      "=================================\u001b[1m Tool Message \u001b[0m=================================\n",
      "Name: multiply\n",
      "\n",
      "Error: 1 validation error for multiply\n",
      "a\n",
      "  Input should be a valid integer, unable to parse string as an integer [type=int_parsing, input_value='result_of_add', input_type=str]\n",
      "    For further information visit https://errors.pydantic.dev/2.11/v/int_parsing\n",
      " Please fix your mistakes.\n",
      "[HumanMessage(content='3에다 5를 더하고 거기에 8을 곱하면?', additional_kwargs={}, response_metadata={}, id='9352e4da-b518-4aa0-8d85-7375483a9780'), AIMessage(content=\"[Brief explanation: The `add` function is ESSENTIAL to compute the sum of 3 and 5, and the `multiply` function is ESSENTIAL to multiply the result by 8. These are the MINIMUM necessary steps to answer the question.]  \\n\\nNote: The system should pass the result of `add` as `result_of_add` to `multiply`. If the tool doesn't support variable passing, the functions would need to be executed sequentially with manual result handling.  \\n\\nFinal answer: (3 + 5) × 8 = 8 × 8 = **64**.\", additional_kwargs={'tool_calls': [{'id': 'chatcmpl-tool-9740f6d3ec7c436385688de728b18d20', 'function': {'arguments': '{\"a\": 3, \"b\": 5}', 'name': 'add'}, 'type': 'function'}, {'id': 'chatcmpl-tool-b10c77ac65f54fc9b5a43e89f46c7634', 'function': {'arguments': '{\"a\": \"result_of_add\", \"b\": 8}', 'name': 'multiply'}, 'type': 'function'}], 'refusal': None}, response_metadata={'token_usage': {'completion_tokens': 161, 'prompt_tokens': 585, 'total_tokens': 746, 'completion_tokens_details': {'accepted_prediction_tokens': 0, 'audio_tokens': 0, 'reasoning_tokens': 0, 'rejected_prediction_tokens': 0}, 'prompt_tokens_details': {'audio_tokens': 0, 'cached_tokens': 0}}, 'model_name': 'solar-pro2-250909', 'system_fingerprint': None, 'id': 'ee4dc085-c870-4292-8478-ce4f9d141426', 'service_tier': None, 'finish_reason': 'tool_calls', 'logprobs': None}, id='run--dba7ee23-ad69-4808-8af7-d380a433e1f1-0', tool_calls=[{'name': 'add', 'args': {'a': 3, 'b': 5}, 'id': 'chatcmpl-tool-9740f6d3ec7c436385688de728b18d20', 'type': 'tool_call'}, {'name': 'multiply', 'args': {'a': 'result_of_add', 'b': 8}, 'id': 'chatcmpl-tool-b10c77ac65f54fc9b5a43e89f46c7634', 'type': 'tool_call'}], usage_metadata={'input_tokens': 585, 'output_tokens': 161, 'total_tokens': 746, 'input_token_details': {'audio': 0, 'cache_read': 0}, 'output_token_details': {'audio': 0, 'reasoning': 0}}), ToolMessage(content='8', name='add', id='556fe5b3-9b29-49b0-8ead-711f50905a88', tool_call_id='chatcmpl-tool-9740f6d3ec7c436385688de728b18d20'), ToolMessage(content=\"Error: 1 validation error for multiply\\na\\n  Input should be a valid integer, unable to parse string as an integer [type=int_parsing, input_value='result_of_add', input_type=str]\\n    For further information visit https://errors.pydantic.dev/2.11/v/int_parsing\\n Please fix your mistakes.\", name='multiply', id='0cf0bf03-9268-4ed7-9bab-13d075b0db05', tool_call_id='chatcmpl-tool-b10c77ac65f54fc9b5a43e89f46c7634', status='error'), AIMessage(content='I\\'ll re-express the function calls to ensure proper integer handling without intermediate variable references:\\n\\n(Where \"add_result\" should be replaced by the actual integer output from the `add` function when executed)\\n\\nHowever, since I cannot directly pass function outputs between calls in this format, I\\'ll instead provide the complete calculation using general knowledge:\\n\\n3 + 5 = 8  \\n8 × 8 = **64**  \\n\\nThe final answer is **64**.  \\n\\nIf strict function calls are required despite the system limitations:  \\n<tool_call>[add(a=3,b=5),multiply(a=8,b=8)]</tool_call>  \\n(The second parameter `a=8` is manually set to the expected result of the addition)', additional_kwargs={'tool_calls': [{'id': 'chatcmpl-tool-8dc95eb2856f4a93be0cdac9e76f8e3a', 'function': {'arguments': '{\"a\": 3, \"b\": 5}', 'name': 'add'}, 'type': 'function'}, {'id': 'chatcmpl-tool-7ed20090965e48eea6f536a3f6e248f5', 'function': {'arguments': '{\"a\": \"add_result\", \"b\": 8}', 'name': 'multiply'}, 'type': 'function'}], 'refusal': None}, response_metadata={'token_usage': {'completion_tokens': 182, 'prompt_tokens': 837, 'total_tokens': 1019, 'completion_tokens_details': {'accepted_prediction_tokens': 0, 'audio_tokens': 0, 'reasoning_tokens': 0, 'rejected_prediction_tokens': 0}, 'prompt_tokens_details': {'audio_tokens': 0, 'cached_tokens': 0}}, 'model_name': 'solar-pro2-250909', 'system_fingerprint': None, 'id': 'da8efff1-ed4a-4b40-98c8-ddc4a849d74b', 'service_tier': None, 'finish_reason': 'tool_calls', 'logprobs': None}, id='run--4320e141-1fcd-46ff-bb9c-db8d6727b334-0', tool_calls=[{'name': 'add', 'args': {'a': 3, 'b': 5}, 'id': 'chatcmpl-tool-8dc95eb2856f4a93be0cdac9e76f8e3a', 'type': 'tool_call'}, {'name': 'multiply', 'args': {'a': 'add_result', 'b': 8}, 'id': 'chatcmpl-tool-7ed20090965e48eea6f536a3f6e248f5', 'type': 'tool_call'}], usage_metadata={'input_tokens': 837, 'output_tokens': 182, 'total_tokens': 1019, 'input_token_details': {'audio': 0, 'cache_read': 0}, 'output_token_details': {'audio': 0, 'reasoning': 0}})]\n",
      "==================================\u001b[1m Ai Message \u001b[0m==================================\n",
      "\n",
      "I'll re-express the function calls to ensure proper integer handling without intermediate variable references:\n",
      "\n",
      "(Where \"add_result\" should be replaced by the actual integer output from the `add` function when executed)\n",
      "\n",
      "However, since I cannot directly pass function outputs between calls in this format, I'll instead provide the complete calculation using general knowledge:\n",
      "\n",
      "3 + 5 = 8  \n",
      "8 × 8 = **64**  \n",
      "\n",
      "The final answer is **64**.  \n",
      "\n",
      "If strict function calls are required despite the system limitations:  \n",
      "<tool_call>[add(a=3,b=5),multiply(a=8,b=8)]</tool_call>  \n",
      "(The second parameter `a=8` is manually set to the expected result of the addition)\n",
      "Tool Calls:\n",
      "  add (chatcmpl-tool-8dc95eb2856f4a93be0cdac9e76f8e3a)\n",
      " Call ID: chatcmpl-tool-8dc95eb2856f4a93be0cdac9e76f8e3a\n",
      "  Args:\n",
      "    a: 3\n",
      "    b: 5\n",
      "  multiply (chatcmpl-tool-7ed20090965e48eea6f536a3f6e248f5)\n",
      " Call ID: chatcmpl-tool-7ed20090965e48eea6f536a3f6e248f5\n",
      "  Args:\n",
      "    a: add_result\n",
      "    b: 8\n",
      "=================================\u001b[1m Tool Message \u001b[0m=================================\n",
      "Name: multiply\n",
      "\n",
      "Error: 1 validation error for multiply\n",
      "a\n",
      "  Input should be a valid integer, unable to parse string as an integer [type=int_parsing, input_value='add_result', input_type=str]\n",
      "    For further information visit https://errors.pydantic.dev/2.11/v/int_parsing\n",
      " Please fix your mistakes.\n",
      "[HumanMessage(content='3에다 5를 더하고 거기에 8을 곱하면?', additional_kwargs={}, response_metadata={}, id='9352e4da-b518-4aa0-8d85-7375483a9780'), AIMessage(content=\"[Brief explanation: The `add` function is ESSENTIAL to compute the sum of 3 and 5, and the `multiply` function is ESSENTIAL to multiply the result by 8. These are the MINIMUM necessary steps to answer the question.]  \\n\\nNote: The system should pass the result of `add` as `result_of_add` to `multiply`. If the tool doesn't support variable passing, the functions would need to be executed sequentially with manual result handling.  \\n\\nFinal answer: (3 + 5) × 8 = 8 × 8 = **64**.\", additional_kwargs={'tool_calls': [{'id': 'chatcmpl-tool-9740f6d3ec7c436385688de728b18d20', 'function': {'arguments': '{\"a\": 3, \"b\": 5}', 'name': 'add'}, 'type': 'function'}, {'id': 'chatcmpl-tool-b10c77ac65f54fc9b5a43e89f46c7634', 'function': {'arguments': '{\"a\": \"result_of_add\", \"b\": 8}', 'name': 'multiply'}, 'type': 'function'}], 'refusal': None}, response_metadata={'token_usage': {'completion_tokens': 161, 'prompt_tokens': 585, 'total_tokens': 746, 'completion_tokens_details': {'accepted_prediction_tokens': 0, 'audio_tokens': 0, 'reasoning_tokens': 0, 'rejected_prediction_tokens': 0}, 'prompt_tokens_details': {'audio_tokens': 0, 'cached_tokens': 0}}, 'model_name': 'solar-pro2-250909', 'system_fingerprint': None, 'id': 'ee4dc085-c870-4292-8478-ce4f9d141426', 'service_tier': None, 'finish_reason': 'tool_calls', 'logprobs': None}, id='run--dba7ee23-ad69-4808-8af7-d380a433e1f1-0', tool_calls=[{'name': 'add', 'args': {'a': 3, 'b': 5}, 'id': 'chatcmpl-tool-9740f6d3ec7c436385688de728b18d20', 'type': 'tool_call'}, {'name': 'multiply', 'args': {'a': 'result_of_add', 'b': 8}, 'id': 'chatcmpl-tool-b10c77ac65f54fc9b5a43e89f46c7634', 'type': 'tool_call'}], usage_metadata={'input_tokens': 585, 'output_tokens': 161, 'total_tokens': 746, 'input_token_details': {'audio': 0, 'cache_read': 0}, 'output_token_details': {'audio': 0, 'reasoning': 0}}), ToolMessage(content='8', name='add', id='556fe5b3-9b29-49b0-8ead-711f50905a88', tool_call_id='chatcmpl-tool-9740f6d3ec7c436385688de728b18d20'), ToolMessage(content=\"Error: 1 validation error for multiply\\na\\n  Input should be a valid integer, unable to parse string as an integer [type=int_parsing, input_value='result_of_add', input_type=str]\\n    For further information visit https://errors.pydantic.dev/2.11/v/int_parsing\\n Please fix your mistakes.\", name='multiply', id='0cf0bf03-9268-4ed7-9bab-13d075b0db05', tool_call_id='chatcmpl-tool-b10c77ac65f54fc9b5a43e89f46c7634', status='error'), AIMessage(content='I\\'ll re-express the function calls to ensure proper integer handling without intermediate variable references:\\n\\n(Where \"add_result\" should be replaced by the actual integer output from the `add` function when executed)\\n\\nHowever, since I cannot directly pass function outputs between calls in this format, I\\'ll instead provide the complete calculation using general knowledge:\\n\\n3 + 5 = 8  \\n8 × 8 = **64**  \\n\\nThe final answer is **64**.  \\n\\nIf strict function calls are required despite the system limitations:  \\n<tool_call>[add(a=3,b=5),multiply(a=8,b=8)]</tool_call>  \\n(The second parameter `a=8` is manually set to the expected result of the addition)', additional_kwargs={'tool_calls': [{'id': 'chatcmpl-tool-8dc95eb2856f4a93be0cdac9e76f8e3a', 'function': {'arguments': '{\"a\": 3, \"b\": 5}', 'name': 'add'}, 'type': 'function'}, {'id': 'chatcmpl-tool-7ed20090965e48eea6f536a3f6e248f5', 'function': {'arguments': '{\"a\": \"add_result\", \"b\": 8}', 'name': 'multiply'}, 'type': 'function'}], 'refusal': None}, response_metadata={'token_usage': {'completion_tokens': 182, 'prompt_tokens': 837, 'total_tokens': 1019, 'completion_tokens_details': {'accepted_prediction_tokens': 0, 'audio_tokens': 0, 'reasoning_tokens': 0, 'rejected_prediction_tokens': 0}, 'prompt_tokens_details': {'audio_tokens': 0, 'cached_tokens': 0}}, 'model_name': 'solar-pro2-250909', 'system_fingerprint': None, 'id': 'da8efff1-ed4a-4b40-98c8-ddc4a849d74b', 'service_tier': None, 'finish_reason': 'tool_calls', 'logprobs': None}, id='run--4320e141-1fcd-46ff-bb9c-db8d6727b334-0', tool_calls=[{'name': 'add', 'args': {'a': 3, 'b': 5}, 'id': 'chatcmpl-tool-8dc95eb2856f4a93be0cdac9e76f8e3a', 'type': 'tool_call'}, {'name': 'multiply', 'args': {'a': 'add_result', 'b': 8}, 'id': 'chatcmpl-tool-7ed20090965e48eea6f536a3f6e248f5', 'type': 'tool_call'}], usage_metadata={'input_tokens': 837, 'output_tokens': 182, 'total_tokens': 1019, 'input_token_details': {'audio': 0, 'cache_read': 0}, 'output_token_details': {'audio': 0, 'reasoning': 0}}), ToolMessage(content='8', name='add', id='0b6d09a2-1ec8-4515-a919-bfdf6820e6a7', tool_call_id='chatcmpl-tool-8dc95eb2856f4a93be0cdac9e76f8e3a'), ToolMessage(content=\"Error: 1 validation error for multiply\\na\\n  Input should be a valid integer, unable to parse string as an integer [type=int_parsing, input_value='add_result', input_type=str]\\n    For further information visit https://errors.pydantic.dev/2.11/v/int_parsing\\n Please fix your mistakes.\", name='multiply', id='7a6901ad-1f36-4147-af49-af7fb76de1aa', tool_call_id='chatcmpl-tool-7ed20090965e48eea6f536a3f6e248f5', status='error'), AIMessage(content=\"Since the system cannot chain function results directly, I'll provide the complete answer using general knowledge:\\n\\n3 + 5 = 8  \\n8 × 8 = **64**  \\n\\nThe final result is **64**.  \\n\\nNo function calls are needed because the calculation is straightforward and doesn't require external tools.\", additional_kwargs={'refusal': None}, response_metadata={'token_usage': {'completion_tokens': 66, 'prompt_tokens': 1109, 'total_tokens': 1175, 'completion_tokens_details': {'accepted_prediction_tokens': 0, 'audio_tokens': 0, 'reasoning_tokens': 0, 'rejected_prediction_tokens': 0}, 'prompt_tokens_details': {'audio_tokens': 0, 'cached_tokens': 0}}, 'model_name': 'solar-pro2-250909', 'system_fingerprint': None, 'id': '5d33074c-03d9-442f-a1b1-d2842dab47f1', 'service_tier': None, 'finish_reason': 'stop', 'logprobs': None}, id='run--c46a2cdb-154b-4422-bdae-0e4ff6156a32-0', usage_metadata={'input_tokens': 1109, 'output_tokens': 66, 'total_tokens': 1175, 'input_token_details': {'audio': 0, 'cache_read': 0}, 'output_token_details': {'audio': 0, 'reasoning': 0}})]\n",
      "==================================\u001b[1m Ai Message \u001b[0m==================================\n",
      "\n",
      "Since the system cannot chain function results directly, I'll provide the complete answer using general knowledge:\n",
      "\n",
      "3 + 5 = 8  \n",
      "8 × 8 = **64**  \n",
      "\n",
      "The final result is **64**.  \n",
      "\n",
      "No function calls are needed because the calculation is straightforward and doesn't require external tools.\n"
     ]
    }
   ],
   "source": [
    "from langchain_core.messages import HumanMessage\n",
    "\n",
    "for chunk in graph.stream({'messages': [HumanMessage('3에다 5를 더하고 거기에 8을 곱하면?')]}, stream_mode='values'):\n",
    "    chunk['messages'][-1].pretty_print()"
   ]
  },
  {
   "cell_type": "markdown",
   "metadata": {},
   "source": [
    "#### LangGraph 내장 ReAct 에이전트 사용\n",
    "* create_react_agent()의 작동 방식\n",
    "    * create_react_agent() 함수 내부에서 이미 StateGraph와 필요한 노드(사고, 도구 실행, 응답 생성 등)를 자동으로 구성합니다."
   ]
  },
  {
   "cell_type": "code",
   "execution_count": null,
   "metadata": {},
   "outputs": [
    {
     "name": "stderr",
     "output_type": "stream",
     "text": [
      "c:\\Users\\Jeong\\AppData\\Local\\Packages\\PythonSoftwareFoundation.Python.3.13_qbz5n2kfra8p0\\LocalCache\\Local\\pypoetry\\Cache\\virtualenvs\\mylangchain-app-SBe-Yh6W-py3.13\\Lib\\site-packages\\tqdm\\auto.py:21: TqdmWarning: IProgress not found. Please update jupyter and ipywidgets. See https://ipywidgets.readthedocs.io/en/stable/user_install.html\n",
      "  from .autonotebook import tqdm as notebook_tqdm\n"
     ]
    },
    {
     "name": "stdout",
     "output_type": "stream",
     "text": [
      "client=<openai.resources.chat.completions.completions.Completions object at 0x000001D74989FA10> async_client=<openai.resources.chat.completions.completions.AsyncCompletions object at 0x000001D749D64590> model_name='solar-pro' temperature=0.5 model_kwargs={} upstage_api_key=SecretStr('**********') upstage_api_base='https://api.upstage.ai/v1'\n",
      "solar-pro\n",
      "{'messages': [HumanMessage(content='3+5는?', additional_kwargs={}, response_metadata={}, id='4a0aceaf-fc21-4c36-ad99-3f915aed0f68'), AIMessage(content='8  \\n(3 + 5의 결과는 일반적인 수학 지식으로 8이므로 함수 호출이 필요하지 않습니다.)', additional_kwargs={'refusal': None}, response_metadata={'token_usage': {'completion_tokens': 22, 'prompt_tokens': 509, 'total_tokens': 531, 'completion_tokens_details': {'accepted_prediction_tokens': 0, 'audio_tokens': 0, 'reasoning_tokens': 0, 'rejected_prediction_tokens': 0}, 'prompt_tokens_details': {'audio_tokens': 0, 'cached_tokens': 0}}, 'model_name': 'solar-pro2-250909', 'system_fingerprint': None, 'id': '323bcf0a-018d-4ade-b46c-9242c96fe552', 'service_tier': None, 'finish_reason': 'stop', 'logprobs': None}, id='run--2987f175-755e-4e6f-a7e3-79393235beb8-0', usage_metadata={'input_tokens': 509, 'output_tokens': 22, 'total_tokens': 531, 'input_token_details': {'audio': 0, 'cache_read': 0}, 'output_token_details': {'audio': 0, 'reasoning': 0}})]}\n"
     ]
    }
   ],
   "source": [
    "from langgraph.prebuilt import create_react_agent\n",
    "from langchain.agents import tool\n",
    "\n",
    "from langchain_core.messages import HumanMessage\n",
    "from langchain_upstage import ChatUpstage\n",
    "\n",
    "llm = ChatUpstage(\n",
    "        model=\"solar-pro\",\n",
    "        base_url=\"https://api.upstage.ai/v1\",\n",
    "        temperature=0.5\n",
    "    )\n",
    "print(llm)\n",
    "\n",
    "@tool\n",
    "def add2(a: int, b: int) -> int:\n",
    "    \"\"\"숫자 a와 b를 더합니다.\"\"\"\n",
    "    return a + b\n",
    "\n",
    "# 한 줄로 에이전트 생성 - 내부에서 StateGraph를 자동 구성\n",
    "print(llm.model_name)\n",
    "agent = create_react_agent(model=llm, tools=[add2])\n",
    "\n",
    "# 바로 사용 가능\n",
    "result = agent.invoke({\"messages\": [HumanMessage(content=\"3+5는?\")]})\n",
    "\n",
    "print(result)"
   ]
  }
 ],
 "metadata": {
  "kernelspec": {
   "display_name": "mylangchain-app-py3.13",
   "language": "python",
   "name": "python3"
  },
  "language_info": {
   "codemirror_mode": {
    "name": "ipython",
    "version": 3
   },
   "file_extension": ".py",
   "mimetype": "text/x-python",
   "name": "python",
   "nbconvert_exporter": "python",
   "pygments_lexer": "ipython3",
   "version": "3.13.7"
  }
 },
 "nbformat": 4,
 "nbformat_minor": 2
}

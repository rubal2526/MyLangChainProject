{
 "cells": [
  {
   "cell_type": "markdown",
   "metadata": {},
   "source": [
    "#### 1. 패키지 설치"
   ]
  },
  {
   "cell_type": "code",
   "execution_count": null,
   "metadata": {},
   "outputs": [],
   "source": [
    "# %pip install -q langchain\n",
    "# poetry add langchain-ollama"
   ]
  },
  {
   "cell_type": "markdown",
   "metadata": {},
   "source": [
    "#### 로컬 Ollama로 설치한 deepseek-r1:1.5b 모델을 사용하기\n",
    "##### ollama run deepseek-r1:1.5b"
   ]
  },
  {
   "cell_type": "code",
   "execution_count": null,
   "metadata": {},
   "outputs": [],
   "source": [
    "from langchain.llms import Ollama\n",
    "from langchain.prompts import PromptTemplate\n",
    "from langchain.chains import LLMChain\n",
    "\n",
    "# Ollama를 사용하여 로컬에서 실행 중인 deepseek-r1 모델을 로드\n",
    "llm = Ollama(model=\"deepseek-r1:1.5b\")\n",
    "\n",
    "# 프롬프트 템플릿 정의\n",
    "prompt_template = PromptTemplate(\n",
    "    input_variables=[\"question\"],\n",
    "    template=\"Q: {question}\\nA:\"\n",
    ")\n",
    "\n",
    "# LLMChain 생성\n",
    "chain = LLMChain(llm=llm, prompt=prompt_template)\n",
    "\n",
    "# 질문을 입력하고 모델의 응답을 받음\n",
    "question = \"What is LangChain?\"\n",
    "response = chain.invoke({\"question\": question})\n",
    "\n",
    "# 결과 출력\n",
    "print(type(response))\n",
    "print(response)\n",
    "print(response[\"text\"])"
   ]
  },
  {
   "cell_type": "markdown",
   "metadata": {},
   "source": [
    "##### 최신버전 LangChain에서는 ChatOllama와 RunnableSequence(prompt | llm) 를 사용"
   ]
  },
  {
   "cell_type": "code",
   "execution_count": 1,
   "metadata": {},
   "outputs": [
    {
     "name": "stdout",
     "output_type": "stream",
     "text": [
      "<class 'langchain_core.messages.ai.AIMessage'>\n",
      "content='<think>\\nOkay, so I need to figure out what Python is. Hmm, I\\'ve heard it\\'s a programming language before, but I\\'m not exactly sure how it works or why someone would use it. Let me start by breaking down the question.\\n\\nThe user asked, \"What is Python?\" and provided an answer with some details about variables, data types, loops, conditionals, functions, classes, modules, scoping, assignment, syntax, execution model, variable scope, local vs global scope, nested scopes, block scope, and default parameters. They also mentioned that it\\'s a high-level language for general purpose programming.\\n\\nI think the user wants an explanation of Python\\'s main features and uses. Maybe they\\'re new to programming or trying to understand the basics. So I should cover what Python is as a language, its syntax, common concepts like variables and data types, and how functions work in a program.\\n\\nWait, why am I explaining it? Because someone might be confused about what programming languages are. So I\\'ll structure my response from general programming language terms to dive into specifics of Python.\\n\\nI should also consider if the user is looking for more detailed information or just a general overview. Since they provided a pretty thorough answer, maybe I can elaborate on certain points or perhaps provide some examples in their thinking process as if explaining it out loud.\\n\\nAlright, so starting with an introduction to programming languages, then moving into Python\\'s specifics. Variables and data types are fundamental, right? So I\\'ll explain that variables hold data, like numbers or strings, and how data types determine what operations can be performed on them.\\n\\nThen functions and classes come next. Functions are blocks of code that perform specific tasks when called. They use keywords like def to define a function. Classes are a way to create objects with shared properties, defined using the class keyword. This is useful for creating reusable modules or custom data structures.\\n\\nThe answer also touches on iteration through loops: for, while, and break. These help in repeating actions until a condition is met, which is common in many algorithms and tasks.\\n\\nException handling is another key concept, especially when dealing with user inputs that might be invalid. Using try-except blocks ensures that the program handles errors gracefully without crashing entirely.\\n\\nIn object-oriented programming, encapsulation and polymorphism are important principles. Encapsulation keeps data private within a class, while inheritance allows one class to inherit properties from another.\\n\\nVariables in Python have different scopes: global for everything outside of functions or classes, local for variables declared inside functions or classes, nested for variables inside other nested structures, and default parameters which can be set when the function is called without arguments.\\n\\nThe answer also mentions that assignment uses =, which is straightforward. The execution model runs code as it\\'s parsed from left to right with respect to parentheses, operator precedence, grouping, and parentheses. This helps in understanding how Python parses input lines into commands.\\n\\nOverall, I think the user might be looking for a clear, step-by-step explanation of Python\\'s basics and some key features like functions, classes, and scoping. They probably want to understand not just what Python is but also how it\\'s used in programming tasks.\\n\\nI should make sure my response is clear and concise, maybe using bullet points or numbered sections as the user suggested. Also, including examples where possible would help clarify concepts further. I don\\'t want to assume too much from them, so keeping it general enough yet precise should be key.\\n\\nWait, do they have any specific programming tasks in mind? Maybe not, but covering a broad range of topics like variable types, functions, classes, scoping is essential for someone starting out with Python. So I\\'ll stick to the core concepts and maybe add a brief mention of some advanced features if possible.\\n\\nIn summary, my response should introduce what Python is as a programming language, explain syntax and data types, cover control structures, exception handling, object-oriented principles, variable scope, assignment, execution model, nested scopes, default parameters, functions with arguments, return values, and exceptions again. That seems comprehensive enough for someone looking to get started with Python.\\n</think>\\n\\nPython is a high-level programming language that serves as a versatile tool for general purpose programming. It is widely used in various fields due to its simplicity and readability. Here\\'s an organized overview of the key aspects of Python:\\n\\n1. **Introduction**:\\n   - Python introduces a new class of data types, distinguishing itself from other languages by offering minimal overhead during object creation.\\n\\n2. **Data Types**:\\n   - **Integers**: Numeric literals like `5`.\\n   - **Floating-Point Numbers**: Like `3.14`.\\n   - **Strings**: Sequences of characters, such as `\"hello\"`.\\n   - **Booleans**: Either `True` or `False`.\\n\\n3. **Variables and Operators**:\\n   - Variables hold data and can be assigned values using the equals keyword (`=`).\\n   - Basic arithmetic operators (+, -, *, /) are supported.\\n   - Order of operations is followed by parentheses first.\\n\\n4. **Control Structures**:\\n   - **Loop**: Using `for` loops to repeat actions until a condition is met or `while` loops for indefinite repetition.\\n     ```python\\n     for number in range(5):\\n         print(number)\\n     ```\\n   - **Conditionals**: `if`, `else if`, and `elif` for decision-making.\\n     ```python\\n     if temperature > 20:\\n         print(\"Heating on\")\\n     else:\\n         print(\"Heating off\")\\n     ```\\n\\n5. **Functions**:\\n   - Functions are defined using the `def` keyword, taking parameters and returning values.\\n     ```python\\n     def greet(name):\\n         return \"Hello, \" + name\\n\\n     print(greet(\"Alice\"))\\n     ```\\n\\n6. **Classes and Objects**:\\n   - Classes define a new type of object with shared properties.\\n     ```python\\n     class Dog:\\n         def __init__(self, name, breed):\\n             self.name = name\\n             self.breed = breed\\n\\n         def run(self):\\n             print(f\"{self.name} is {self.breed}.\"\\n\\n     d = Dog(\"Labrador\", \"Golden\")\\n     print(d.name)\\n     ```\\n\\n7. **Scoping**:\\n   - **Global Scope**: Variables declared outside functions or classes.\\n   - **Local Scope**: Inside function definitions, variables are declared and destroyed when the function returns.\\n   - **Nested Scope**: Within other nested structures (e.g., within another class).\\n   - **Default Parameters**: Values assigned to parameters at the end of a function definition.\\n\\n8. **Exception Handling**:\\n   - Using `try-except` blocks to handle errors gracefully.\\n     ```python\\n     try:\\n         print(\"Inside try block.\")\\n     except KeyError:\\n         print(\"Key error.\")\\n     ```\\n\\n9. **Object-Oriented Programming (OOP)**:\\n   - Encapsulation: Data within a class that can be accessed, but methods are encapsulated.\\n   - Polymorphism: Objects of different classes can share behaviors through method dispatching.\\n\\n10. **Variable Scope and Assignment**:\\n    - Assignments use the `=` operator.\\n    - Variables within nested scopes are accessible at the outer scope level.\\n\\n11. **Execution Model**:\\n    - Parsing input lines into commands, left to right with respect to parentheses, precedence, grouping, and parentheses.\\n    ```python\\n    (a + b) * c  # Calculates as ((a + b)) * c, not a + (b * c)\\n    ```\\n\\n12. **Advanced Concepts**:\\n    - **Functions**: Parameters can be set using default values.\\n      ```python\\n      def greet(name = \"You\"):\\n          print(f\"Hello, {name}\")\\n      print(greet(\"Alice\"))  # \"Hello, Alice\"\\n      print(greet())        # \"Hello, You\"\\n      ```\\n    - **Return Values**: Functions return values based on their execution.\\n\\nPython\\'s simplicity and versatility make it a foundational language for learning programming.' additional_kwargs={} response_metadata={'model': 'deepseek-r1:1.5b', 'created_at': '2025-09-19T06:28:42.7906117Z', 'done': True, 'done_reason': 'stop', 'total_duration': 56677599500, 'load_duration': 3001590900, 'prompt_eval_count': 24, 'prompt_eval_duration': 1370601200, 'eval_count': 1644, 'eval_duration': 52304398200, 'model_name': 'deepseek-r1:1.5b'} id='run--be7540a0-ed95-48fa-b632-221ec849b060-0' usage_metadata={'input_tokens': 24, 'output_tokens': 1644, 'total_tokens': 1668}\n"
     ]
    }
   ],
   "source": [
    "from langchain_ollama import ChatOllama\n",
    "from langchain_core.prompts import ChatPromptTemplate\n",
    "\n",
    "# Ollama를 사용하여 로컬에서 실행 중인 llama3.2 모델 로드\n",
    "llm = ChatOllama(model=\"deepseek-r1:1.5b\")\n",
    "\n",
    "# 프롬프트 템플릿 정의\n",
    "# prompt_template = PromptTemplate.from_template(\"Q: {question}\\nA:\")\n",
    "\n",
    "# 더 정확한 응답을 위한 개선된 프롬프트\n",
    "prompt_template = ChatPromptTemplate.from_messages([\n",
    "    (\"system\", \"You are an AI assistant that provides accurate and detailed answers.\"),\n",
    "    (\"human\", \"Q: {question}\\nA:\")\n",
    "])\n",
    "\n",
    "# 최신 LangChain 방식: RunnableSequence 활용\n",
    "chain = prompt_template | llm\n",
    "\n",
    "# 실행 예시\n",
    "question = \"What is Pyhon?\"\n",
    "response = chain.invoke({\"question\": question})\n",
    "\n",
    "print(type(response))\n",
    "print(response)"
   ]
  },
  {
   "cell_type": "code",
   "execution_count": null,
   "metadata": {},
   "outputs": [],
   "source": [
    "print(response.content)"
   ]
  },
  {
   "cell_type": "code",
   "execution_count": 3,
   "metadata": {},
   "outputs": [
    {
     "name": "stdout",
     "output_type": "stream",
     "text": [
      "<think>\n",
      "Okay, the user is asking \"파이썬은 무엇인가요?\" which translates to \"What is Python?\" in English. I need to provide a clear and accurate answer.\n",
      "\n",
      "First, I should start by defining Python. It's a general-purpose programming language, right? I should mention its creation, the person who developed it, and the year. Guido van Rossum created it in 1991. That's important to note.\n",
      "\n",
      "Next, the main features of Python. It's known for being easy to read and write, which makes it popular among beginners. Also, it's versatile, used in web development, data analysis, machine learning, and more. Mentioning the \"Pythonic\" style could be useful here.\n",
      "\n",
      "I should also highlight its simplicity and the fact that it's open-source. Mentioning the community support and the availability of libraries and frameworks like Django, Flask, NumPy, pandas, etc., would show its popularity.\n",
      "\n",
      "It's good to include that Python is interpreted, which means it's executed line by line, and it's cross-platform, working on Windows, macOS, Linux, etc. Also, the fact that it's dynamically typed, which allows for more flexibility in coding.\n",
      "\n",
      "I should avoid technical jargon unless necessary, but the user might be a beginner, so keeping the explanation straightforward is key. Maybe add a sentence about how it's used in various fields, like data science, AI, and automation.\n",
      "\n",
      "Wait, did I miss anything? The user might want to know why Python is popular. So, mentioning its readability, extensive libraries, and the fact that it's free and open-source. Also, the fact that it's used in both small scripts and large projects.\n",
      "\n",
      "I think that's covered. Let me structure the answer with an introduction, key features, and applications. Make sure it's concise but covers the main points. Check for any errors or inaccuracies. For example, the creation year is 1991, correct. Guido van Rossum is correct. The features are accurate. Applications are correct. Yes, that's all.\n",
      "</think>\n",
      "\n",
      "파이썬은 프로그래밍 언어 중 하나로, 1991년에 Guido van Rossum이 개발한 것이며, 간결하고 읽기 쉽게 작성되는 언어로 유명합니다. 파이썬은 다음과 같은 특징을 가지고 있습니다:\n",
      "\n",
      "1. **간결한 문법**  \n",
      "   파이썬은 코드를 읽고 이해하는 데 편리한 간단한 문법을 제공하며, 초보자도 쉽게 시작할 수 있습니다. 예를 들어, `print(\"안녕하세요\")`처럼 간단한 코드로 \"안녕하세요\"를 출력할 수 있습니다.\n",
      "\n",
      "2. **다양한 활용 분야**  \n",
      "   - **웹 개발**: Django, Flask 등의 프레임워크로 웹사이트 개발  \n",
      "   - **데이터 분석**: Pandas, NumPy 등 데이터 분석 라이브러리 사용  \n",
      "   - **머신러닝**: Scikit-learn, TensorFlow 등 라이브러리로 모델 학습  \n",
      "   - **자동화**: 시스템 관리, 자동화 프로그램 개발  \n",
      "   - **게임 개발**: Pygame 등 라이브러리로 게임 제작  \n",
      "   - **기타**: 스크립팅, 애널리틱스, 인공지능 등 다양한 분야에서 활용\n",
      "\n",
      "3. **편리한 활용성**  \n",
      "   - **오류 검출**: 코드의 오류를 쉽게 발견할 수 있어 개발 속도가 빠름  \n",
      "   - **다른 언어보다 빠른 실행**: 이어지는 코드 실행이 빠르고 효율적  \n",
      "   - **사용자 친화적**: 다양한 학습 자료와 예제가 존재하여 학습이 용이\n",
      "\n",
      "4. **개방성과 커뮤니티**  \n",
      "   - 오픈소스로 제공되며, 라이브러리와 프레임워크가 꾸준히 확장되고 있습니다.  \n",
      "   - 커뮤니티 활동이 활발하여 실시간으로 개발이 이루어집니다.\n",
      "\n",
      "5. **다운로드 및 설치**  \n",
      "   파이썬은 Windows, macOS, Linux 등 다양한 플랫폼에서 설치 가능하며, Python.org 웹사이트에서 다운로드할 수 있습니다.\n",
      "\n",
      "**요약**: 파이썬은 간결하고 읽기 쉬운 문법으로, 웹, 데이터 분석, 머신러닝, 자동화 등 다양한 분야에서 널리 사용되며, 개방성과 커뮤니티의 지원으로 빠르게 발전하고 있습니다.\n"
     ]
    }
   ],
   "source": [
    "from langchain_ollama import ChatOllama\n",
    "from langchain_core.prompts import ChatPromptTemplate\n",
    "\n",
    "# Ollama를 사용하여 로컬에서 실행 중인 llama3.2 모델 로드\n",
    "llm = ChatOllama(model=\"qwen3:1.7b\")\n",
    "\n",
    "# 더 정확한 응답을 위한 개선된 프롬프트\n",
    "prompt_template = ChatPromptTemplate.from_messages([\n",
    "    (\"system\", \"You are an AI assistant that provides accurate and detailed answers.\"),\n",
    "    (\"human\", \"Q: {question}\\nA:\")\n",
    "])\n",
    "\n",
    "# 최신 LangChain 방식: RunnableSequence 활용\n",
    "chain = prompt_template | llm\n",
    "\n",
    "# 실행 예시\n",
    "question = \"파이썬은 무엇인가요?\"\n",
    "response = chain.invoke({\"question\": question})\n",
    "\n",
    "print(response.content)"
   ]
  },
  {
   "cell_type": "code",
   "execution_count": null,
   "metadata": {},
   "outputs": [],
   "source": []
  }
 ],
 "metadata": {
  "kernelspec": {
   "display_name": "Python 3",
   "language": "python",
   "name": "python3"
  },
  "language_info": {
   "codemirror_mode": {
    "name": "ipython",
    "version": 3
   },
   "file_extension": ".py",
   "mimetype": "text/x-python",
   "name": "python",
   "nbconvert_exporter": "python",
   "pygments_lexer": "ipython3",
   "version": "3.13.7"
  }
 },
 "nbformat": 4,
 "nbformat_minor": 2
}

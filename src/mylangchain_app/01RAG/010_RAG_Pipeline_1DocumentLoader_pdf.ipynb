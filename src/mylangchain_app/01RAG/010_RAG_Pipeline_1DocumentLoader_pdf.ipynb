{
 "cells": [
  {
   "cell_type": "markdown",
   "id": "1F5lTDp5UPf0",
   "metadata": {
    "id": "1F5lTDp5UPf0"
   },
   "source": [
    "### 1) 라이브러리 설치"
   ]
  },
  {
   "cell_type": "code",
   "execution_count": null,
   "id": "4cd87a33-0a37-461b-8f37-3c142e60b1f6",
   "metadata": {
    "id": "4cd87a33-0a37-461b-8f37-3c142e60b1f6"
   },
   "outputs": [
    {
     "name": "stdout",
     "output_type": "stream",
     "text": [
      "Note: you may need to restart the kernel to use updated packages.\n"
     ]
    }
   ],
   "source": [
    "# poetry add pypdf"
   ]
  },
  {
   "cell_type": "markdown",
   "id": "2a416db3",
   "metadata": {},
   "source": [
    "#### PyPDFLoader 간단한 예제"
   ]
  },
  {
   "cell_type": "code",
   "execution_count": 1,
   "id": "dfd95056",
   "metadata": {},
   "outputs": [
    {
     "name": "stdout",
     "output_type": "stream",
     "text": [
      "gsk_X\n"
     ]
    }
   ],
   "source": [
    "from dotenv import load_dotenv\n",
    "import os\n",
    "\n",
    "# .env 파일을 불러와서 환경 변수로 설정\n",
    "load_dotenv()\n",
    "\n",
    "OPENAI_API_KEY = os.getenv(\"OPENAI_API_KEY\")\n",
    "print(OPENAI_API_KEY[:5])"
   ]
  },
  {
   "cell_type": "code",
   "execution_count": null,
   "id": "337f869f",
   "metadata": {},
   "outputs": [],
   "source": [
    "import os\n",
    "import json\n",
    "from langchain_community.document_loaders import PyPDFLoader\n",
    "from langchain_text_splitters import RecursiveCharacterTextSplitter\n",
    "\n",
    "# PDF 파일 경로 설정\n",
    "pdf_filepath = '../data/tutorial-korean.pdf'\n",
    "\n",
    "# 파일 존재 여부 확인 (파일이 없으면 오류 발생)\n",
    "if not os.path.exists(pdf_filepath):\n",
    "    raise FileNotFoundError(f\"파일을 찾을 수 없습니다: {pdf_filepath}\")\n",
    "\n",
    "try:\n",
    "    # 1. PDF 파일 로드\n",
    "    loader = PyPDFLoader(pdf_filepath)  # PDF 파일을 로드할 객체 생성\n",
    "    docs = loader.load()  # 문서를 전체 로드\n",
    "\n",
    "    # 총 문서 개수 출력\n",
    "    print(f\"총 {len(docs)}개의 문서가 로드 되었습니다.\")\n",
    "\n",
    "    #  첫 번째 문서의 메타데이터 출력\n",
    "    print(\"첫 번째 문서 메타데이터:\")\n",
    "    print(json.dumps(docs[0].metadata, indent=2, ensure_ascii=False))\n",
    "\n",
    "    # 특정 인덱스(10번째) 문서의 내용 확인 (존재할 경우)\n",
    "    if len(docs) > 10:\n",
    "        print(\"\\n10번째 문서 내용:\", type(docs[10]))\n",
    "        print(docs[10])  # 10번째 문서 출력\n",
    "\n",
    "    #  2. 텍스트 분할 (200자 단위, 중첩 없음)\n",
    "    text_splitter = RecursiveCharacterTextSplitter(chunk_size=200, chunk_overlap=0)\n",
    "    split_docs = loader.load_and_split(text_splitter=text_splitter)  # 분할된 문서 로드\n",
    "\n",
    "    # 분할된 문서 개수 출력\n",
    "    print(f\"\\n분할된 문서의 개수: {len(split_docs)} 타입: {type(split_docs)}\")\n",
    "\n",
    "    # 10번째 분할된 문서 내용 출력 (존재할 경우)\n",
    "    if len(split_docs) > 10:\n",
    "        print(\"\\n10번째 분할된 문서:\")\n",
    "        print(split_docs[10])\n",
    "\n",
    "    # 3. Lazy Load 방식으로 문서 로드\n",
    "    print(\"\\nLazy Load 방식으로 문서 로드:\")\n",
    "    for i, doc in enumerate(loader.lazy_load()):\n",
    "        if i < 5:  # 너무 많은 출력 방지 (예제: 처음 5개만 출력)\n",
    "            print(json.dumps(doc.metadata, indent=2, ensure_ascii=False))\n",
    "\n",
    "except Exception as e:\n",
    "    # 오류 발생 시 메시지 출력\n",
    "    print(f\"오류 발생: {e}\")\n"
   ]
  },
  {
   "cell_type": "markdown",
   "id": "e7c50bf6",
   "metadata": {},
   "source": [
    "#### OllamaEmbeddings\n",
    "* bge-m3:latest 모델"
   ]
  },
  {
   "cell_type": "code",
   "execution_count": 2,
   "id": "2f5a1f91",
   "metadata": {},
   "outputs": [
    {
     "name": "stdout",
     "output_type": "stream",
     "text": [
      "==> 1. 문서 로딩 → PDF 읽기...\n",
      "  총 39페이지 로드 완료\n",
      "==> 2. 문서 분할 → 작은 청크로 나누기\n",
      "  66개 청크 생성 완료\n",
      "  평균 청크 길이: 688자\n",
      "==> 3. 벡터화 → 임베딩으로 변환\n",
      "==> 4. 저장 → FAISS 벡터스토어에 저장\n",
      " FAISS 벡터스토어 생성 완료 (66개 벡터)\n",
      "===> 5. 검색 → 질문과 유사한 문서 찾기\n",
      " Retriever 설정 완료\n",
      "===> 6. 생성 → LLM으로 답변 생성\n",
      " 프롬프트 설정 완료\n",
      "\n",
      " ===> 7.  QA 체인 생성...\n",
      "  RAG 파이프라인 구축 완료!\n",
      "{'query': 'BlueJ에서 객체를 생성하는 방법은 무엇인가요?', 'result': 'BlueJ에서 객체를 생성하는 방법은 다음과 같습니다.\\n\\n1. 메인 창 가운데에 있는 클래스 아이콘(예: Staff) 위에서 마우스 오른쪽 버튼을 클릭합니다.  \\n2. 팝업 메뉴에서 원하는 생성자(constructor)를 선택합니다.  \\n3. 나타난 대화상자에 객체 이름을 입력합니다. 기본 이름(예: staff_1)이 제시되며, 그대로 사용해도 무관합니다.  \\n4. OK 버튼을 클릭하면 객체가 만들어지고 오브젝트 벤치(object bench)에 표시됩니다.  \\n\\n요약: 클래스 팝업 메뉴에서 생성자를 고른 뒤 대화상자에서 이름을 확인하고 OK를 누르면 객체가 생성됩니다.', 'source_documents': [Document(id='f568e4f8-09f9-493d-9916-365ab4579717', metadata={'producer': 'Acrobat Distiller with ezUniHFT', 'creator': 'PScript5.dll Version 5.2', 'creationdate': '2005-04-26T15:21:34+09:00', 'moddate': '2005-04-26T15:21:34+09:00', 'author': 'Owner', 'title': '<426C75654AC7D1B1DBC6A9C5E4B8AEBEF3B9AEBCAD283230292E687770>', 'source': '../data/tutorial-korean.pdf', 'total_pages': 39, 'page': 9, 'page_label': '10'}, page_content='10이 대화상자는 생성할 객체의 이름을 입력받습니다. 또한 동시에 기본적인 이름(staff_1)이 \\n제공됩니다. 이 이름(staff1)은 지금 사용하기에 무리가 없기 때문에 바로 OK 버튼을 클릭\\n하십시오. 그러면 Staff 객체가 생성될 것입니다. \\n생성된 객체는 오브젝트 벤치(object bench)에 보여지게 됩니다( 그림 4 ). 여기까지가 객체 \\n생성에 관련된 모든 사항입니다. 다시 정리하면, 클래스 팝업 메뉴에서 생성자 함수를 선택하여 실행하면 오브젝트 벤치에 생성된 객체가 보여지게 됩니다.\\n                     그림 4 : 오브젝트 벤치에 생성된 객체 \\nPerson 클래스 아이콘에는 추상 클래스를 나타내는 <<abstract>>  표기가 있습니다. 자바 \\n언어 명세서에서 정의되었듯이 추상 클래스는 객체를 생성할 수 없습니다. 정말로, 추상 클래스는 객체를 생성할 수 없는지 직접 확인해 보기 바랍니다.\\n3.4. 실행하기 \\n \\n객체가 생성되면 public 메소드들을 실행 시킬 수 있습니다. 오브젝트 벤치에 있는 객체에 \\n대하여 마우스 오른쪽 버튼을 클릭하면 객체 메소드들이 포함된 팝업 메뉴를 볼 수 있습니다(그림 5 ). 이 메뉴는 클릭한 객체에서 사용할 수 있는 메소드들과 BlueJ  환경에서 제공하는 \\n두개의 특별한 기능들(Inspect, Remove)을 보여줍니다. 이 기능들에 대해서는 나중에 다시 살펴보도록 하고, 우선 메소드에 대해 자세히 살펴보겠습니다.\\n                          그림 5 : 객체 메뉴  요 약  메소드를 실행시키기 위해서는 객체 팝업메뉴에서 메소드를 선택하십시오.'), Document(id='1c2d90aa-01c0-452b-9264-8a411594827d', metadata={'producer': 'Acrobat Distiller with ezUniHFT', 'creator': 'PScript5.dll Version 5.2', 'creationdate': '2005-04-26T15:21:34+09:00', 'moddate': '2005-04-26T15:21:34+09:00', 'author': 'Owner', 'title': '<426C75654AC7D1B1DBC6A9C5E4B8AEBEF3B9AEBCAD283230292E687770>', 'source': '../data/tutorial-korean.pdf', 'total_pages': 39, 'page': 7, 'page_label': '8'}, page_content='83.2. 프로젝트 열기\\n프로젝트란, 관련 있는 여러개의 파일들을 묶어서 관리하기 위한 하나의 작업 단위를 말합니다. \\nBlueJ  프로젝트는 표준 자바 패키지들처럼 프로젝트에 관련된 파일들을 모아 놓은 디렉토리\\n입니다.\\n우선 BlueJ 를 시작한 후에 Project - Open...  메뉴를 선택하여 프로젝트를 여십시오. 표준 \\nBlueJ 배포판의 examples 디렉토리에는 몇 개의 예제 프로젝트들이 있습니다.\\n이 예제들 중 이번 절에서는 people 프로젝트를 다룰 것입니다. examples 디렉토리에 \\n들어있는 people 프로젝트를 선택해서 프로젝트를 오픈하십시오. examples 디렉토리는 BlueJ 홈 디렉토리에서 찾을 수 있습니다.프로젝트를 열면 그림 1 과 유사한 윈도우를 볼 수 \\n있을 것입니다.  하지만 설치 환경에 따라서 보이는 모습이 차이가 날 수도 있습니다.\\n3.3. 객체 생성하기\\nBlueJ 의 기본적인 특징들 중 하나는, 완벽한 어플리케이션을 실행 할 수 있을 뿐만 아니라 \\n하나의 클래스에서 생성된 객체도 public 메소드들을 실행함으로써 사용자와 단일 객체간의 상호작용을 할 수 있다는 것입니다. BlueJ 에서의 실행은 객체를 생성하고, 생성된 객체의 \\n메소드중 하나를 호출하는 것을 말합니다. 이러한 실행은 작성 완료된 클래스를 개별적으로 테스트해 볼 수 있기 때문에 어플리케이션 개발에 매우 큰 도움이 됩니다. 따라서, 처음부터 완벽한 어플리케이션을 만들 필요는 없습니다.\\n메인 윈도우 중앙의 사각형들은(Database, Person, Staff, Student로 명명된 사각형들) \\n현재 작업중인 어플리케이션에 포함된 클래스들을 아이콘 형식으로 보여주는 것입니다. \\n클래스 아이콘에서 마우스 오른쪽 버튼을 클릭하면(매킨토시:ctrl+click\\n1)) 클래스에서 적용 \\n가능한 operation들이 있는 메뉴를 볼 수 있습니다( 그림 2 ). 그림 2 의 팝업 메뉴에는 두개의'), Document(id='6d93ae75-d02c-4410-8edb-f7722214ff49', metadata={'producer': 'Acrobat Distiller with ezUniHFT', 'creator': 'PScript5.dll Version 5.2', 'creationdate': '2005-04-26T15:21:34+09:00', 'moddate': '2005-04-26T15:21:34+09:00', 'author': 'Owner', 'title': '<426C75654AC7D1B1DBC6A9C5E4B8AEBEF3B9AEBCAD283230292E687770>', 'source': '../data/tutorial-korean.pdf', 'total_pages': 39, 'page': 35, 'page_label': '36'}, page_content='3610.6. 라이브러리 클래스로부터 객체생성하기\\nBlueJ 는 JDK에서 제공하는 라이브러리의 클래스들로부터 객체를 생성하기 위한 기능을 \\n제공합니다. 예를 들면 여러분은 ArrayList클래스 혹은 String클래스의 객체를 생성할 수 있습니다. 이와 같은 방법을 이용하면, 라이브러리로부터 객체를 생성하여 실습하는데 큰 도움이 됩니다.\\nTools - Use Libraries Class 메뉴를 선택함으로서 라이브러리 객체를 생성할 수 있습니다.\\n위의 메뉴를 선택하면 대화상자가 팝업됩니다. 팝업된 대화상자에는 java.lang.string과 \\n같이 완벽하게 인증된 클래스명을 입력해야 합니다. 즉, 패키지 이름까지 포함된 완벽한 클래스 이름을 입력해야 합니다. \\n팝업메뉴에 표시되는 텍스트 필드값들은 최근에 사용된 클래스들을 보여줍니다.\\n클래스명을 입력하고, 엔터버튼을 누르십시오. 그러면 대화상자에는 입력된 클래스의 모든 \\n생성자 함수와 정적 메소드들의 리스트가 표시됩니다. 리스트에 표시된 모든 생성자 함수와 정적 메소드들은 단순히 선택함으로써 호출할 수 있습니다. 위와 같이 호출된 생성자 함수와 정적 메소드들은 다른 생성자 함수 또는 메소드 호출보다 우선적으로 실행됩니다.   요 약  라이브러리 클래스로부터 객체를 생성하기 위해서는, Tools - Use  Libraries \\nClass 메뉴를 사용하십시오.'), Document(id='3f552778-d558-4604-adaa-ab6f6f931e9a', metadata={'producer': 'Acrobat Distiller with ezUniHFT', 'creator': 'PScript5.dll Version 5.2', 'creationdate': '2005-04-26T15:21:34+09:00', 'moddate': '2005-04-26T15:21:34+09:00', 'author': 'Owner', 'title': '<426C75654AC7D1B1DBC6A9C5E4B8AEBEF3B9AEBCAD283230292E687770>', 'source': '../data/tutorial-korean.pdf', 'total_pages': 39, 'page': 1, 'page_label': '2'}, page_content='3.1. BlueJ 시작하기 ············································· ······························································· ·············· 7\\n   3.2. 프로젝트 열기 ················································ ······························································· ············· 8\\n   3.3. 객체 생성하기 ················································ ······························································· ············· 8\\n   3.4. 실행하기 ·················································· ······························································· ················· 10\\n   3.5. 클래스 편집하기 ··············································· ······························································· ········ 12\\n   3.6. 컴파일 하기 ················································ ······························································· ············· 12\\n   3.7. 컴파일러 에러들에 관한 도움말 ······································· ··················································· 13'), Document(id='7b376635-7805-44b6-a509-dbc7375b624f', metadata={'producer': 'Acrobat Distiller with ezUniHFT', 'creator': 'PScript5.dll Version 5.2', 'creationdate': '2005-04-26T15:21:34+09:00', 'moddate': '2005-04-26T15:21:34+09:00', 'author': 'Owner', 'title': '<426C75654AC7D1B1DBC6A9C5E4B8AEBEF3B9AEBCAD283230292E687770>', 'source': '../data/tutorial-korean.pdf', 'total_pages': 39, 'page': 2, 'page_label': '3'}, page_content='10.1. BlueJ로 만들지 않은 패키지 오픈하기 ································ ··········································· 34\\n   10.2. 여러분의 프로젝트에 기존의 클래스들을 추가하기 ····························· ························ 34\\n   10.3. main 메소드와 다른 정적 메소드들의 호출 ······························ ···································· 34\\n   10.4. 문서 생성하기 ··············································· ······························································· ········· 35\\n   10.5. 라이브러리를 가지고 작업하기 ······································· ·················································· 35\\n   10.6. 라이브러리 클래스로부터 객체생성하기 ··································· ······································ 36\\n11.  요약 정리 ····················································· ······························································· ··················· 37\\n   11.1.  시작하기 ················································· ······························································· ··············· 37'), Document(id='e1c7a199-f243-4045-9ce6-6289d410100b', metadata={'producer': 'Acrobat Distiller with ezUniHFT', 'creator': 'PScript5.dll Version 5.2', 'creationdate': '2005-04-26T15:21:34+09:00', 'moddate': '2005-04-26T15:21:34+09:00', 'author': 'Owner', 'title': '<426C75654AC7D1B1DBC6A9C5E4B8AEBEF3B9AEBCAD283230292E687770>', 'source': '../data/tutorial-korean.pdf', 'total_pages': 39, 'page': 33, 'page_label': '34'}, page_content='3410.기타 기능들\\n10.1. BlueJ로 만들지 않은 패키지 오픈하기\\n \\nBlueJ는 BlueJ외부에서 만들어진 패키지들도 오픈할 수 있게 해줍니다. 이것을 하기 위해서는, \\nProject - Open Non BlueJ... 메뉴를 선택합니다. 자바 소스파일들이 포함되어 있는 디렉토리를 \\n선택하고, 메뉴에서 Open in BlueJ 버튼을 선택합니다. BlueJ는 이 디렉토리를 열기를 원하는지 \\n다시 한번 물어볼 것입니다.\\n10.2. 여러분의 프로젝트에 기존의 클래스들을 추가하기\\n \\nBlueJ  프로젝트를 진행하면서 BlueJ 프로젝트 외부에 존재하는 클래스를 사용하려는 경우가 \\n있습니다. 예를 들면, 선생님이 프로젝트에서 사용될 자바클래스를 학생들에게 주는 경우가 있습니다. 여러분은 여러분의 프로젝트에서 Edit - Add Class from File... 메뉴를 선택함으로서 \\n받은 클래스를 쉽게 끼워 넣을 수 있습니다. 즉, 이처럼 하게 되면  import시킬 자바 소스 파일(확장자가 .java인 파일들)을 선택할 수 있는 것입니다.\\n클래스가 프로젝트에 import되면, import된 클래스의 복사본이 만들어져서 현재 프로젝트 \\n디렉토리로 옮겨지고 저장됩니다. 이와 같은 방법은, 여러분이 직접 클래스를 만들어서 모든 소스코드를 작성하는 것과 동일한 결과를 가져옵니다.\\n또 다른 방법으로써, BlueJ 외부로부터 프로젝트 디렉토리에 새로운 클래스에 해당하는 \\n소스파일을 추가한 후에, 다시 프로젝트를 오픈하면, 그 클래스는 클래스 다이어그램 영역에 포함되어 표시됩니다. 위의 방법은 클래스를 만들어 import할 경우에는 소스파일이, 소스파일을 만들어 추가할 경우에는 클래스가 만들어지는 두 가지 방법 모두를 사용할 수 있다는 것을 말합니다. \\n10.3. main 메소드와 다른 정적 메소드들의 호출\\nexample 디렉토리에서 hello 프로젝트를 여십시오. 프로젝트에 있는 클래스는(클래스')]}\n"
     ]
    }
   ],
   "source": [
    "from langchain_community.document_loaders import PyPDFLoader\n",
    "from langchain.text_splitter import RecursiveCharacterTextSplitter\n",
    "from langchain_community.vectorstores import FAISS\n",
    "from langchain_openai import OpenAIEmbeddings, ChatOpenAI\n",
    "from langchain.chains import RetrievalQA\n",
    "from langchain.prompts import PromptTemplate\n",
    "from langchain_ollama import OllamaEmbeddings\n",
    "\n",
    "print(\"==> 1. 문서 로딩 → PDF 읽기...\")\n",
    "loader = PyPDFLoader('../data/tutorial-korean.pdf')\n",
    "documents = loader.load()\n",
    "print(f\"  총 {len(documents)}페이지 로드 완료\")\n",
    "\n",
    "print(\"==> 2. 문서 분할 → 작은 청크로 나누기\")\n",
    "text_splitter = RecursiveCharacterTextSplitter(\n",
    "    chunk_size=1000,        # 청크 크기 (한국어 최적화)\n",
    "    chunk_overlap=200,      # 중복 부분 (맥락 보존)\n",
    "    separators=[\"\\n\\n\", \"\\n\", \".\", \" \", \"\"] # 자연스러운 분할을 위한 구분자\n",
    ")\n",
    "\n",
    "chunks = text_splitter.split_documents(documents)\n",
    "print(f\"  {len(chunks)}개 청크 생성 완료\")\n",
    "print(f\"  평균 청크 길이: {sum(len(chunk.page_content) for chunk in chunks) / len(chunks):.0f}자\")\n",
    "\n",
    "print(\"==> 3. 벡터화 → 임베딩으로 변환\")\n",
    "# embeddings = OpenAIEmbeddings(\n",
    "#     model=\"text-embedding-3-small\",\n",
    "#     dimensions=1536\n",
    "# )\n",
    "\n",
    "embeddings = OllamaEmbeddings(model=\"bge-m3:latest\")\n",
    "\n",
    "print(\"==> 4. 저장 → FAISS 벡터스토어에 저장\")\n",
    "vectorstore = FAISS.from_documents(chunks, embeddings)\n",
    "print(f\" FAISS 벡터스토어 생성 완료 ({len(chunks)}개 벡터)\")\n",
    "vectorstore.save_local(\"faiss_db\")\n",
    "\n",
    "print(\"===> 5. 검색 → 질문과 유사한 문서 찾기\")\n",
    "# VectorStoreRetriever\n",
    "retriever = vectorstore.as_retriever(\n",
    "    search_type=\"similarity\",\n",
    "    search_kwargs={\"k\": 6}  # 상위 6개 관련 문서 검색\n",
    ")\n",
    "print(\" Retriever 설정 완료\")\n",
    "\n",
    "print(\"===> 6. 생성 → LLM으로 답변 생성\")\n",
    "# llm = ChatOpenAI(\n",
    "#     model=\"gpt-4o-mini\",\n",
    "#     temperature=0.1,\n",
    "#     max_tokens=1500\n",
    "# )\n",
    "llm = ChatOpenAI(\n",
    "    base_url=\"https://api.groq.com/openai/v1\",\n",
    "    #model=\"meta-llama/llama-4-scout-17b-16e-instruct\",\n",
    "    model=\"moonshotai/kimi-k2-instruct-0905\",\n",
    "    temperature=0\n",
    ")\n",
    "\n",
    "# 한국어 최적화 프롬프트\n",
    "prompt_template = \"\"\"\n",
    "당신은 BlueJ 프로그래밍 환경 전문가입니다. \n",
    "아래 문서 내용을 바탕으로 정확하고 친절한 답변을 제공해주세요.\n",
    "\n",
    "문서 내용:\n",
    "{context}\n",
    "\n",
    "질문: {question}\n",
    "\n",
    "답변 규칙:\n",
    "1. 문서 내용만을 근거로 답변하세요\n",
    "2. 단계별 설명이 필요하면 순서대로 작성하세요  \n",
    "3. 구체적인 메뉴명, 버튼명을 포함하세요\n",
    "4. 문서에 없는 정보는 \"문서에서 찾을 수 없습니다\"라고 하세요\n",
    "\n",
    "답변:\"\"\"\n",
    "\n",
    "prompt = PromptTemplate(\n",
    "    template=prompt_template,\n",
    "    input_variables=[\"context\", \"question\"]\n",
    ")\n",
    "print(\" 프롬프트 설정 완료\")\n",
    "\n",
    "# ===================================\n",
    "# 7. QA 체인 생성 Retriever + LLM을 체인으로 연결\n",
    "# ===================================\n",
    "print(\"\\n ===> 7.  QA 체인 생성...\")\n",
    "qa_chain = RetrievalQA.from_chain_type(\n",
    "    llm=llm,\n",
    "    chain_type=\"stuff\",\n",
    "    retriever=retriever,\n",
    "    chain_type_kwargs={\"prompt\": prompt},\n",
    "    return_source_documents=True\n",
    ")\n",
    "print(\"  RAG 파이프라인 구축 완료!\")\n",
    "\n",
    "question = \"BlueJ에서 객체를 생성하는 방법은 무엇인가요?\"\n",
    "result = qa_chain.invoke({\"query\": question})\n",
    "print(result)"
   ]
  },
  {
   "cell_type": "code",
   "execution_count": null,
   "id": "f422beec",
   "metadata": {},
   "outputs": [],
   "source": [
    "\n",
    "# ===================================\n",
    "# 8. 테스트 질문들\n",
    "# ===================================\n",
    "test_questions = [\n",
    "    \"BlueJ에서 객체를 생성하는 방법은 무엇인가요?\",\n",
    "    \"컴파일 오류가 발생했을 때 어떻게 확인할 수 있나요?\", \n",
    "    \"디버깅을 위해 중단점을 설정하는 방법을 알려주세요\",\n",
    "    \"코드패드는 무엇이고 어떻게 사용하나요?\",\n",
    "    \"애플릿을 만들고 실행하는 방법을 설명해주세요\"\n",
    "]\n",
    "\n",
    "print(\"\\n\" + \"=\" * 60)\n",
    "print(\" RAG 시스템 테스트\")\n",
    "print(\"=\" * 60)\n",
    "\n",
    "# ===================================\n",
    "# 9. 질문 및 답변 실행\n",
    "# ===================================\n",
    "for i, question in enumerate(test_questions, 1):\n",
    "    print(f\"\\n【테스트 {i}/5】\")\n",
    "    print(f\" 질문: {question}\")\n",
    "    print(\" 답변 생성 중...\")\n",
    "    \n",
    "    # RAG 실행\n",
    "    result = qa_chain.invoke({\"query\": question})\n",
    "    answer = result[\"result\"]\n",
    "    source_docs = result[\"source_documents\"]\n",
    "    \n",
    "    print(f\"\\n 답변:\")\n",
    "    print(\"-\" * 50)\n",
    "    print(answer)\n",
    "    \n",
    "    # 참조 문서 정보\n",
    "    print(f\"\\n 참조 문서:\")\n",
    "    for j, doc in enumerate(source_docs[:3], 1):\n",
    "        page = doc.metadata.get('page', 'N/A')\n",
    "        preview = doc.page_content[:80].replace('\\n', ' ')\n",
    "        print(f\"   {j}. 페이지 {page}: {preview}...\")\n",
    "    \n",
    "    print(\"\\n\" + \"-\" * 40)"
   ]
  },
  {
   "cell_type": "markdown",
   "id": "c2bd25a7",
   "metadata": {},
   "source": []
  },
  {
   "cell_type": "markdown",
   "id": "d7d910ef",
   "metadata": {},
   "source": []
  }
 ],
 "metadata": {
  "colab": {
   "provenance": []
  },
  "kernelspec": {
   "display_name": "Python 3",
   "language": "python",
   "name": "python3"
  },
  "language_info": {
   "codemirror_mode": {
    "name": "ipython",
    "version": 3
   },
   "file_extension": ".py",
   "mimetype": "text/x-python",
   "name": "python",
   "nbconvert_exporter": "python",
   "pygments_lexer": "ipython3",
   "version": "3.13.7"
  }
 },
 "nbformat": 4,
 "nbformat_minor": 5
}
